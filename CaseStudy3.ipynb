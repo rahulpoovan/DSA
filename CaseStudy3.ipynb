{
 "cells": [
  {
   "cell_type": "markdown",
   "id": "ae349457",
   "metadata": {},
   "source": [
    "#                              <center>Case_Study_3</center>"
   ]
  },
  {
   "cell_type": "code",
   "execution_count": 5,
   "id": "d9e38600",
   "metadata": {},
   "outputs": [],
   "source": [
    "#importing necessary libraries"
   ]
  },
  {
   "cell_type": "code",
   "execution_count": 1,
   "id": "fec81bda",
   "metadata": {},
   "outputs": [],
   "source": [
    "import pandas as pd\n",
    "import numpy as np\n",
    "import matplotlib.pyplot as plt\n",
    "import seaborn as sns"
   ]
  },
  {
   "cell_type": "code",
   "execution_count": 2,
   "id": "49899502",
   "metadata": {},
   "outputs": [],
   "source": [
    "data=pd.read_csv('D:\\DSA\\case study\\Add_sales_data_2018.csv') #data accessing from local system"
   ]
  },
  {
   "cell_type": "code",
   "execution_count": 3,
   "id": "e2340386",
   "metadata": {},
   "outputs": [
    {
     "data": {
      "text/html": [
       "<div>\n",
       "<style scoped>\n",
       "    .dataframe tbody tr th:only-of-type {\n",
       "        vertical-align: middle;\n",
       "    }\n",
       "\n",
       "    .dataframe tbody tr th {\n",
       "        vertical-align: top;\n",
       "    }\n",
       "\n",
       "    .dataframe thead th {\n",
       "        text-align: right;\n",
       "    }\n",
       "</style>\n",
       "<table border=\"1\" class=\"dataframe\">\n",
       "  <thead>\n",
       "    <tr style=\"text-align: right;\">\n",
       "      <th></th>\n",
       "      <th>Date</th>\n",
       "      <th>Add1(in Thousands)</th>\n",
       "      <th>Add2(in Thousands)</th>\n",
       "      <th>Add3(in Thousands)</th>\n",
       "      <th>Add4(in Thousands)</th>\n",
       "      <th>Add5(in Thousands)</th>\n",
       "      <th>Profit(in Thousands)</th>\n",
       "    </tr>\n",
       "  </thead>\n",
       "  <tbody>\n",
       "    <tr>\n",
       "      <th>0</th>\n",
       "      <td>2018-10-08</td>\n",
       "      <td>208.00</td>\n",
       "      <td>222.25</td>\n",
       "      <td>206.85</td>\n",
       "      <td>216.00</td>\n",
       "      <td>215.15</td>\n",
       "      <td>4093.065</td>\n",
       "    </tr>\n",
       "    <tr>\n",
       "      <th>1</th>\n",
       "      <td>2018-10-05</td>\n",
       "      <td>217.00</td>\n",
       "      <td>218.60</td>\n",
       "      <td>205.90</td>\n",
       "      <td>210.25</td>\n",
       "      <td>209.20</td>\n",
       "      <td>4042.448</td>\n",
       "    </tr>\n",
       "    <tr>\n",
       "      <th>2</th>\n",
       "      <td>2018-10-04</td>\n",
       "      <td>223.50</td>\n",
       "      <td>227.80</td>\n",
       "      <td>216.15</td>\n",
       "      <td>217.25</td>\n",
       "      <td>218.20</td>\n",
       "      <td>4213.819</td>\n",
       "    </tr>\n",
       "    <tr>\n",
       "      <th>3</th>\n",
       "      <td>2018-10-03</td>\n",
       "      <td>230.00</td>\n",
       "      <td>237.50</td>\n",
       "      <td>225.75</td>\n",
       "      <td>226.45</td>\n",
       "      <td>227.60</td>\n",
       "      <td>4391.665</td>\n",
       "    </tr>\n",
       "    <tr>\n",
       "      <th>4</th>\n",
       "      <td>2018-10-01</td>\n",
       "      <td>234.55</td>\n",
       "      <td>234.60</td>\n",
       "      <td>221.05</td>\n",
       "      <td>230.30</td>\n",
       "      <td>230.90</td>\n",
       "      <td>4350.683</td>\n",
       "    </tr>\n",
       "  </tbody>\n",
       "</table>\n",
       "</div>"
      ],
      "text/plain": [
       "         Date  Add1(in Thousands)  Add2(in Thousands)  Add3(in Thousands)  \\\n",
       "0  2018-10-08              208.00              222.25              206.85   \n",
       "1  2018-10-05              217.00              218.60              205.90   \n",
       "2  2018-10-04              223.50              227.80              216.15   \n",
       "3  2018-10-03              230.00              237.50              225.75   \n",
       "4  2018-10-01              234.55              234.60              221.05   \n",
       "\n",
       "   Add4(in Thousands)  Add5(in Thousands)  Profit(in Thousands)  \n",
       "0              216.00              215.15              4093.065  \n",
       "1              210.25              209.20              4042.448  \n",
       "2              217.25              218.20              4213.819  \n",
       "3              226.45              227.60              4391.665  \n",
       "4              230.30              230.90              4350.683  "
      ]
     },
     "execution_count": 3,
     "metadata": {},
     "output_type": "execute_result"
    }
   ],
   "source": [
    "data.head()"
   ]
  },
  {
   "cell_type": "code",
   "execution_count": null,
   "id": "785d0e36",
   "metadata": {},
   "outputs": [],
   "source": []
  },
  {
   "cell_type": "markdown",
   "id": "9f1c3e42",
   "metadata": {},
   "source": [
    "## 1. First of all, check whether there is any relationship between the amount spent for advertising through five different companies and profit generated."
   ]
  },
  {
   "cell_type": "code",
   "execution_count": 14,
   "id": "b5739e44",
   "metadata": {},
   "outputs": [
    {
     "data": {
      "text/plain": [
       "<AxesSubplot:>"
      ]
     },
     "execution_count": 14,
     "metadata": {},
     "output_type": "execute_result"
    },
    {
     "data": {
      "image/png": "[encoded data removed]",
      "text/plain": [
       "<Figure size 720x288 with 2 Axes>"
      ]
     },
     "metadata": {
      "needs_background": "light"
     },
     "output_type": "display_data"
    }
   ],
   "source": [
    "corrmatrix=data.corr()\n",
    "plt.subplots(figsize=(10,4))\n",
    "sns.heatmap(corrmatrix,vmin=0.97,vmax=1,annot=True,linewidth=0.2)"
   ]
  },
  {
   "cell_type": "markdown",
   "id": "1ae267f2",
   "metadata": {},
   "source": [
    "Insight: From the plot it is clear that amount spent for ads and the profit generated for each are highly correlated"
   ]
  },
  {
   "cell_type": "code",
   "execution_count": 16,
   "id": "7ab1e270",
   "metadata": {},
   "outputs": [
    {
     "data": {
      "text/plain": [
       "Index(['Date', 'Add1(in Thousands)', 'Add2(in Thousands)',\n",
       "       'Add3(in Thousands)', 'Add4(in Thousands)', 'Add5(in Thousands)',\n",
       "       'Profit(in Thousands)'],\n",
       "      dtype='object')"
      ]
     },
     "execution_count": 16,
     "metadata": {},
     "output_type": "execute_result"
    }
   ],
   "source": [
    "data.columns"
   ]
  },
  {
   "cell_type": "code",
   "execution_count": 36,
   "id": "1d1f933f",
   "metadata": {},
   "outputs": [],
   "source": [
    "y=data['Profit(in Thousands)']\n",
    "x=data.drop(['Date','Profit(in Thousands)'],axis=1)"
   ]
  },
  {
   "cell_type": "markdown",
   "id": "e17adb7c",
   "metadata": {},
   "source": [
    "## 2. Build a regression model to predict the profit from the given data and comment your findings on it."
   ]
  },
  {
   "cell_type": "code",
   "execution_count": 37,
   "id": "c80263b7",
   "metadata": {},
   "outputs": [],
   "source": [
    "from sklearn.model_selection import train_test_split\n",
    "x_train,x_test,y_train,y_test=train_test_split(x,y,random_state=42,test_size=0.25)"
   ]
  },
  {
   "cell_type": "code",
   "execution_count": 38,
   "id": "e2fb69ea",
   "metadata": {},
   "outputs": [],
   "source": [
    "from sklearn import linear_model"
   ]
  },
  {
   "cell_type": "code",
   "execution_count": 39,
   "id": "6b41343b",
   "metadata": {},
   "outputs": [],
   "source": [
    "lr=linear_model.LinearRegression()"
   ]
  },
  {
   "cell_type": "code",
   "execution_count": 40,
   "id": "fe89dfb9",
   "metadata": {},
   "outputs": [],
   "source": [
    "model=lr.fit(x_train,y_train)"
   ]
  },
  {
   "cell_type": "code",
   "execution_count": 41,
   "id": "1b9930e7",
   "metadata": {},
   "outputs": [],
   "source": [
    "predictions=model.predict(x_test)"
   ]
  },
  {
   "cell_type": "code",
   "execution_count": 42,
   "id": "67d079a6",
   "metadata": {
    "scrolled": true
   },
   "outputs": [
    {
     "name": "stdout",
     "output_type": "stream",
     "text": [
      "15     4152.066\n",
      "9      4446.441\n",
      "100    5131.898\n",
      "132    4907.560\n",
      "68     5004.282\n",
      "95     4623.793\n",
      "159    5384.175\n",
      "162    5328.025\n",
      "147    5175.051\n",
      "182    5956.323\n",
      "191    5780.799\n",
      "164    4997.719\n",
      "65     5075.858\n",
      "175    5784.540\n",
      "73     4936.120\n",
      "152    5065.652\n",
      "18     4190.965\n",
      "82     5034.726\n",
      "86     5015.536\n",
      "143    5134.657\n",
      "60     5145.131\n",
      "101    5421.940\n",
      "98     4569.293\n",
      "30     4598.292\n",
      "25     4436.321\n",
      "16     4175.677\n",
      "168    5616.791\n",
      "195    5667.250\n",
      "97     4648.834\n",
      "194    5717.838\n",
      "67     5001.615\n",
      "120    5182.368\n",
      "154    5017.503\n",
      "202    5545.013\n",
      "79     5013.207\n",
      "69     5030.451\n",
      "145    5108.626\n",
      "55     4760.877\n",
      "45     4606.340\n",
      "84     4925.861\n",
      "146    5250.788\n",
      "66     5038.222\n",
      "111    5491.792\n",
      "153    5019.997\n",
      "96     4647.356\n",
      "38     4486.380\n",
      "24     4435.174\n",
      "139    5300.437\n",
      "112    5425.190\n",
      "29     4482.183\n",
      "19     4193.095\n",
      "178    6062.457\n",
      "Name: Profit(in Thousands), dtype: float64\n"
     ]
    }
   ],
   "source": [
    "print(y_test)"
   ]
  },
  {
   "cell_type": "code",
   "execution_count": 43,
   "id": "be2ec565",
   "metadata": {},
   "outputs": [
    {
     "name": "stdout",
     "output_type": "stream",
     "text": [
      "[4152.066 4446.441 5131.898 4907.56  5004.282 4623.793 5384.175 5328.025\n",
      " 5175.051 5956.323 5780.799 4997.719 5075.858 5784.54  4936.12  5065.652\n",
      " 4190.965 5034.726 5015.536 5134.657 5145.131 5421.94  4569.293 4598.292\n",
      " 4436.321 4175.677 5616.791 5667.25  4648.834 5717.838 5001.615 5182.368\n",
      " 5017.503 5545.013 5013.207 5030.451 5108.626 4760.877 4606.34  4925.861\n",
      " 5250.788 5038.222 5491.792 5019.997 4647.356 4486.38  4435.174 5300.437\n",
      " 5425.19  4482.183 4193.095 6062.457]\n"
     ]
    }
   ],
   "source": [
    "print(predictions)"
   ]
  },
  {
   "cell_type": "code",
   "execution_count": 44,
   "id": "23ca4720",
   "metadata": {},
   "outputs": [],
   "source": [
    "from sklearn.metrics import mean_squared_error"
   ]
  },
  {
   "cell_type": "code",
   "execution_count": 45,
   "id": "94280232",
   "metadata": {},
   "outputs": [
    {
     "name": "stdout",
     "output_type": "stream",
     "text": [
      "MSE is: 3.9768298680434024e-25\n"
     ]
    }
   ],
   "source": [
    "print('MSE is:',mean_squared_error(y_test,predictions))"
   ]
  },
  {
   "cell_type": "markdown",
   "id": "6acef8c2",
   "metadata": {},
   "source": [
    "Insight:\n",
    "        From the least MSE value the regression model can be considered a perfect one.\n",
    "        There are no prety much difference between test and train data values"
   ]
  },
  {
   "cell_type": "markdown",
   "id": "8124d7b6",
   "metadata": {},
   "source": [
    "## 3. Predict the profit generated by the company, if they wish to spend the following amount for advertisement.\n",
    "\n",
    "Add1(in Thousands)\n",
    "290,\n",
    "Add2(in Thousands)\n",
    "312,\n",
    "Add3(in Thousands)\n",
    "309,\n",
    "Add4(in Thousands)\n",
    "298,\n",
    "Add5(in Thousands)\n",
    "320\n"
   ]
  },
  {
   "cell_type": "code",
   "execution_count": 55,
   "id": "bdd0c7c7",
   "metadata": {},
   "outputs": [],
   "source": [
    "df2 = {'Add1(in Thousands)': 290, 'Add2(in Thousands)': 312, 'Add3(in Thousands)':309, 'Add4(in Thousands)':298,'Add5(in Thousands)':320}\n",
    "data = data.append(df2, ignore_index=True)"
   ]
  },
  {
   "cell_type": "code",
   "execution_count": 56,
   "id": "acac3b55",
   "metadata": {},
   "outputs": [],
   "source": [
    "y=data['Profit(in Thousands)']\n",
    "x=data.drop(['Date','Profit(in Thousands)'],axis=1)"
   ]
  },
  {
   "cell_type": "code",
   "execution_count": 65,
   "id": "47ef6c69",
   "metadata": {},
   "outputs": [],
   "source": [
    "from sklearn.model_selection import train_test_split\n",
    "x_train,x_test,y_train,y_test=train_test_split(x,y,random_state=42,test_size=0.25)"
   ]
  },
  {
   "cell_type": "code",
   "execution_count": 68,
   "id": "33edc754",
   "metadata": {},
   "outputs": [
    {
     "name": "stdout",
     "output_type": "stream",
     "text": [
      "[5212.949 4152.066 4936.12  4647.356 5245.14  4446.441 5131.898 4979.399\n",
      " 4190.965 5190.758 5792.175 4598.292 5078.636 6101.648 5153.977 5616.186\n",
      " 4997.719 5917.925 4925.861 5163.693 5244.097 5728.804 5518.561 5421.94\n",
      " 5030.451 4436.321 4623.793 4175.677 5245.324 5903.253 5017.503 5004.282\n",
      " 5038.222 5182.368 5175.051 4569.293 5247.011 5465.277 4606.34  5373.275\n",
      " 5075.858 6062.457 5015.536 5565.444 5001.615 5034.726 5820.06  5717.838\n",
      " 4486.38  4435.174 5145.131 5667.25 ]\n"
     ]
    }
   ],
   "source": [
    "from sklearn import linear_model\n",
    "predictions=model.predict(x_test)\n",
    "print(predictions)"
   ]
  },
  {
   "cell_type": "code",
   "execution_count": null,
   "id": "5355e5aa",
   "metadata": {},
   "outputs": [],
   "source": []
  },
  {
   "cell_type": "code",
   "execution_count": null,
   "id": "c5db4c88",
   "metadata": {},
   "outputs": [],
   "source": []
  }
 ],
 "metadata": {
  "kernelspec": {
   "display_name": "Python 3",
   "language": "python",
   "name": "python3"
  },
  "language_info": {
   "codemirror_mode": {
    "name": "ipython",
    "version": 3
   },
   "file_extension": ".py",
   "mimetype": "text/x-python",
   "name": "python",
   "nbconvert_exporter": "python",
   "pygments_lexer": "ipython3",
   "version": "3.8.8"
  }
 },
 "nbformat": 4,
 "nbformat_minor": 5
}
